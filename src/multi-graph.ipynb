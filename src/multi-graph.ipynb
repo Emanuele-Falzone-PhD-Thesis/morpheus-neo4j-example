{
 "cells": [
  {
   "cell_type": "markdown",
   "metadata": {},
   "source": [
    "###### Initialize morpheus session"
   ]
  },
  {
   "cell_type": "code",
   "execution_count": 1,
   "metadata": {},
   "outputs": [
    {
     "data": {
      "text/plain": [
       "Intitializing Scala interpreter ..."
      ]
     },
     "metadata": {},
     "output_type": "display_data"
    },
    {
     "data": {
      "text/plain": [
       "Spark Web UI available at http://262f2fcdc736:4040\n",
       "SparkContext available as 'sc' (version = 2.4.2, master = local[*], app id = local-1586450928491)\n",
       "SparkSession available as 'spark'\n"
      ]
     },
     "metadata": {},
     "output_type": "display_data"
    },
    {
     "data": {
      "text/plain": [
       "import org.opencypher.morpheus.api.MorpheusSession\n",
       "morpheus: org.opencypher.morpheus.api.MorpheusSession = MorpheusSession\n"
      ]
     },
     "execution_count": 1,
     "metadata": {},
     "output_type": "execute_result"
    }
   ],
   "source": [
    "import org.opencypher.morpheus.api.MorpheusSession\n",
    "\n",
    "implicit val morpheus: MorpheusSession = MorpheusSession.local()"
   ]
  },
  {
   "cell_type": "markdown",
   "metadata": {},
   "source": [
    "###### Retrieve environment variables"
   ]
  },
  {
   "cell_type": "code",
   "execution_count": 2,
   "metadata": {},
   "outputs": [
    {
     "data": {
      "text/plain": [
       "NEO4J_SHOPS_URI: String = bolt://neo4j-shops:7687\n",
       "NEO4J_SHOPS_USERNAME: String = neo4j\n",
       "NEO4J_SHOPS_PASSWORD: String = shops\n",
       "NEO4J_NEARBY_URI: String = bolt://neo4j-nearby:7687\n",
       "NEO4J_NEARBY_USERNAME: String = neo4j\n",
       "NEO4J_NEARBY_PASSWORD: String = nearby\n",
       "NEO4J_COUPONS_URI: String = bolt://neo4j-coupons:7687\n",
       "NEO4J_COUPONS_USERNAME: String = neo4j\n",
       "NEO4J_COUPONS_PASSWORD: String = coupons\n"
      ]
     },
     "execution_count": 2,
     "metadata": {},
     "output_type": "execute_result"
    }
   ],
   "source": [
    "val NEO4J_SHOPS_URI = sys.env(\"NEO4J_SHOPS_URI\")\n",
    "val NEO4J_SHOPS_USERNAME = sys.env(\"NEO4J_SHOPS_USERNAME\")\n",
    "val NEO4J_SHOPS_PASSWORD = sys.env(\"NEO4J_SHOPS_PASSWORD\")\n",
    "val NEO4J_NEARBY_URI = sys.env(\"NEO4J_NEARBY_URI\")\n",
    "val NEO4J_NEARBY_USERNAME = sys.env(\"NEO4J_NEARBY_USERNAME\")\n",
    "val NEO4J_NEARBY_PASSWORD = sys.env(\"NEO4J_NEARBY_PASSWORD\")\n",
    "val NEO4J_COUPONS_URI = sys.env(\"NEO4J_COUPONS_URI\")\n",
    "val NEO4J_COUPONS_USERNAME = sys.env(\"NEO4J_COUPONS_USERNAME\")\n",
    "val NEO4J_COUPONS_PASSWORD = sys.env(\"NEO4J_COUPONS_PASSWORD\")"
   ]
  },
  {
   "cell_type": "markdown",
   "metadata": {},
   "source": [
    "###### Define Neo4jContext class"
   ]
  },
  {
   "cell_type": "code",
   "execution_count": 3,
   "metadata": {},
   "outputs": [
    {
     "data": {
      "text/plain": [
       "import org.opencypher.okapi.neo4j.io.Neo4jConfig\n",
       "import org.neo4j.driver.v1.{Driver, Session, StatementResult}\n",
       "defined class Neo4jContext\n"
      ]
     },
     "execution_count": 3,
     "metadata": {},
     "output_type": "execute_result"
    }
   ],
   "source": [
    "import org.opencypher.okapi.neo4j.io.Neo4jConfig\n",
    "import org.neo4j.driver.v1.{Driver, Session, StatementResult}\n",
    "\n",
    "case class Neo4jContext(config: Neo4jConfig) {\n",
    "\n",
    "    val driver = config.driver()\n",
    "    val session = driver.session()\n",
    "\n",
    "    def close(): Unit = {\n",
    "        session.close()\n",
    "        driver.close()\n",
    "    }\n",
    "\n",
    "    def execute(cypher: String): StatementResult = {\n",
    "        session.run(cypher)\n",
    "    }\n",
    "}"
   ]
  },
  {
   "cell_type": "markdown",
   "metadata": {},
   "source": [
    "###### Create Neo4jConfig objects, one for each neo4j instance"
   ]
  },
  {
   "cell_type": "code",
   "execution_count": 4,
   "metadata": {},
   "outputs": [
    {
     "data": {
      "text/plain": [
       "import java.net.URI\n",
       "import org.opencypher.okapi.neo4j.io.Neo4jConfig\n"
      ]
     },
     "execution_count": 4,
     "metadata": {},
     "output_type": "execute_result"
    }
   ],
   "source": [
    "import java.net.URI\n",
    "import org.opencypher.okapi.neo4j.io.Neo4jConfig"
   ]
  },
  {
   "cell_type": "code",
   "execution_count": 5,
   "metadata": {},
   "outputs": [
    {
     "data": {
      "text/plain": [
       "neo4jShopsConfig: org.opencypher.okapi.neo4j.io.Neo4jConfig = Neo4jConfig(bolt://neo4j-shops:7687,neo4j,Some(shops),false,100000,100000,1000,10)\n"
      ]
     },
     "execution_count": 5,
     "metadata": {},
     "output_type": "execute_result"
    }
   ],
   "source": [
    "val neo4jShopsConfig = new Neo4jConfig(\n",
    "    URI.create(NEO4J_SHOPS_URI),\n",
    "    user = NEO4J_SHOPS_USERNAME, \n",
    "    password = Some(NEO4J_SHOPS_PASSWORD), \n",
    "    encrypted = false\n",
    ")"
   ]
  },
  {
   "cell_type": "code",
   "execution_count": 6,
   "metadata": {},
   "outputs": [
    {
     "data": {
      "text/plain": [
       "neo4jNearbyConfig: org.opencypher.okapi.neo4j.io.Neo4jConfig = Neo4jConfig(bolt://neo4j-nearby:7687,neo4j,Some(nearby),false,100000,100000,1000,10)\n"
      ]
     },
     "execution_count": 6,
     "metadata": {},
     "output_type": "execute_result"
    }
   ],
   "source": [
    "val neo4jNearbyConfig = new Neo4jConfig(\n",
    "    URI.create(NEO4J_NEARBY_URI),\n",
    "    user = NEO4J_NEARBY_USERNAME, \n",
    "    password = Some(NEO4J_NEARBY_PASSWORD), \n",
    "    encrypted = false\n",
    ")"
   ]
  },
  {
   "cell_type": "code",
   "execution_count": 7,
   "metadata": {},
   "outputs": [
    {
     "data": {
      "text/plain": [
       "neo4jCouponsConfig: org.opencypher.okapi.neo4j.io.Neo4jConfig = Neo4jConfig(bolt://neo4j-coupons:7687,neo4j,Some(coupons),false,100000,100000,1000,10)\n"
      ]
     },
     "execution_count": 7,
     "metadata": {},
     "output_type": "execute_result"
    }
   ],
   "source": [
    "val neo4jCouponsConfig = new Neo4jConfig(\n",
    "    URI.create(NEO4J_COUPONS_URI),\n",
    "    user = NEO4J_COUPONS_USERNAME, \n",
    "    password = Some(NEO4J_COUPONS_PASSWORD), \n",
    "    encrypted = false\n",
    ")"
   ]
  },
  {
   "cell_type": "markdown",
   "metadata": {},
   "source": [
    "###### Create Neo4jContext objects, one for each Neo4jConfig object"
   ]
  },
  {
   "cell_type": "code",
   "execution_count": 8,
   "metadata": {},
   "outputs": [
    {
     "data": {
      "text/plain": [
       "neo4jShopsContext: Neo4jContext = Neo4jContext(Neo4jConfig(bolt://neo4j-shops:7687,neo4j,Some(shops),false,100000,100000,1000,10))\n"
      ]
     },
     "execution_count": 8,
     "metadata": {},
     "output_type": "execute_result"
    }
   ],
   "source": [
    "val neo4jShopsContext = new Neo4jContext(neo4jShopsConfig)"
   ]
  },
  {
   "cell_type": "code",
   "execution_count": 9,
   "metadata": {},
   "outputs": [
    {
     "data": {
      "text/plain": [
       "neo4jNearbyContext: Neo4jContext = Neo4jContext(Neo4jConfig(bolt://neo4j-nearby:7687,neo4j,Some(nearby),false,100000,100000,1000,10))\n"
      ]
     },
     "execution_count": 9,
     "metadata": {},
     "output_type": "execute_result"
    }
   ],
   "source": [
    "val neo4jNearbyContext = new Neo4jContext(neo4jNearbyConfig)"
   ]
  },
  {
   "cell_type": "code",
   "execution_count": 10,
   "metadata": {},
   "outputs": [
    {
     "data": {
      "text/plain": [
       "neo4jCouponsContext: Neo4jContext = Neo4jContext(Neo4jConfig(bolt://neo4j-coupons:7687,neo4j,Some(coupons),false,100000,100000,1000,10))\n"
      ]
     },
     "execution_count": 10,
     "metadata": {},
     "output_type": "execute_result"
    }
   ],
   "source": [
    "val neo4jCouponsContext = new Neo4jContext(neo4jCouponsConfig)"
   ]
  },
  {
   "cell_type": "markdown",
   "metadata": {},
   "source": [
    "###### Initialize Neo4j graph with sample data"
   ]
  },
  {
   "cell_type": "code",
   "execution_count": 11,
   "metadata": {},
   "outputs": [
    {
     "data": {
      "text/plain": [
       "res0: org.neo4j.driver.v1.StatementResult = org.neo4j.driver.internal.InternalStatementResult@51c017da\n"
      ]
     },
     "execution_count": 11,
     "metadata": {},
     "output_type": "execute_result"
    }
   ],
   "source": [
    "neo4jShopsContext.execute(\"MATCH (n) DETACH DELETE n\")\n",
    "neo4jShopsContext.execute(\n",
    "    \"\"\"|CREATE (:Person {name:'Alice'})-[:OWNS]->(:Shop {name:'Shop A'})\n",
    "       |CREATE (:Person {name:'Bob'})-[: OWNS]->(:Shop {name:'Shop B'})\"\"\".stripMargin\n",
    ")"
   ]
  },
  {
   "cell_type": "code",
   "execution_count": 12,
   "metadata": {},
   "outputs": [
    {
     "data": {
      "text/plain": [
       "res1: org.neo4j.driver.v1.StatementResult = org.neo4j.driver.internal.InternalStatementResult@7691d946\n"
      ]
     },
     "execution_count": 12,
     "metadata": {},
     "output_type": "execute_result"
    }
   ],
   "source": [
    "neo4jNearbyContext.execute(\"MATCH (n) DETACH DELETE n\")\n",
    "neo4jNearbyContext.execute(\n",
    "    \"\"\"|CREATE (a:Shop {name:'Shop A'})\n",
    "       |CREATE (b:Shop {name:'Shop B'})\n",
    "       |CREATE (:Person {name:'Diana'})-[:IS_NEAR_BY]->(a)\n",
    "       |CREATE (:Person {name:'Eve'})-[:IS_NEAR_BY]->(b)\n",
    "       |CREATE (:Person {name:'Carl'})-[:IS_NEAR_BY]->(a)\"\"\".stripMargin\n",
    ")"
   ]
  },
  {
   "cell_type": "code",
   "execution_count": 13,
   "metadata": {},
   "outputs": [
    {
     "data": {
      "text/plain": [
       "res2: org.neo4j.driver.v1.StatementResult = org.neo4j.driver.internal.InternalStatementResult@2ac0ca61\n"
      ]
     },
     "execution_count": 13,
     "metadata": {},
     "output_type": "execute_result"
    }
   ],
   "source": [
    "neo4jCouponsContext.execute(\"MATCH (n) DETACH DELETE n\")\n",
    "neo4jCouponsContext.execute(\n",
    "    \"\"\"|CREATE (:Person {name:'Alice'})-[:OFFERS]->(:Coupon {discount:'10%'})\n",
    "       |CREATE (:Person {name:'Bob'})-[:OFFERS]->(:Coupon {discount:'Free coffee!'})\"\"\".stripMargin\n",
    ")"
   ]
  },
  {
   "cell_type": "markdown",
   "metadata": {},
   "source": [
    "###### Register Neo4j graphs into morpheus"
   ]
  },
  {
   "cell_type": "code",
   "execution_count": 14,
   "metadata": {},
   "outputs": [
    {
     "data": {
      "text/plain": [
       "import org.opencypher.morpheus.api.GraphSources\n",
       "import org.opencypher.okapi.api.graph.Namespace\n"
      ]
     },
     "execution_count": 14,
     "metadata": {},
     "output_type": "execute_result"
    }
   ],
   "source": [
    "import org.opencypher.morpheus.api.GraphSources\n",
    "import org.opencypher.okapi.api.graph.Namespace\n",
    "\n",
    "morpheus.registerSource(Namespace(\"gshops\"), GraphSources.cypher.neo4j(neo4jShopsConfig))\n",
    "morpheus.registerSource(Namespace(\"gnearby\"), GraphSources.cypher.neo4j(neo4jNearbyConfig))\n",
    "morpheus.registerSource(Namespace(\"gcoupons\"), GraphSources.cypher.neo4j(neo4jCouponsConfig))"
   ]
  },
  {
   "cell_type": "markdown",
   "metadata": {},
   "source": [
    "###### Check the content of each graph"
   ]
  },
  {
   "cell_type": "code",
   "execution_count": 15,
   "metadata": {},
   "outputs": [
    {
     "name": "stdout",
     "output_type": "stream",
     "text": [
      "╔═══════════════════════════════╗\n",
      "║ n                             ║\n",
      "╠═══════════════════════════════╣\n",
      "║ (:`Shop` {`name`: 'Shop A'})  ║\n",
      "║ (:`Shop` {`name`: 'Shop B'})  ║\n",
      "║ (:`Person` {`name`: 'Alice'}) ║\n",
      "║ (:`Person` {`name`: 'Bob'})   ║\n",
      "╚═══════════════════════════════╝\n",
      "(4 rows)\n"
     ]
    }
   ],
   "source": [
    "morpheus.cypher(\n",
    "    \"\"\"|FROM GRAPH gshops.graph\n",
    "       |MATCH (n)\n",
    "       |RETURN n\"\"\".stripMargin\n",
    "  ).show"
   ]
  },
  {
   "cell_type": "code",
   "execution_count": 16,
   "metadata": {},
   "outputs": [
    {
     "name": "stdout",
     "output_type": "stream",
     "text": [
      "╔═══════════════════════════════╗\n",
      "║ n                             ║\n",
      "╠═══════════════════════════════╣\n",
      "║ (:`Shop` {`name`: 'Shop A'})  ║\n",
      "║ (:`Shop` {`name`: 'Shop B'})  ║\n",
      "║ (:`Person` {`name`: 'Diana'}) ║\n",
      "║ (:`Person` {`name`: 'Eve'})   ║\n",
      "║ (:`Person` {`name`: 'Carl'})  ║\n",
      "╚═══════════════════════════════╝\n",
      "(5 rows)\n"
     ]
    }
   ],
   "source": [
    "morpheus.cypher(\n",
    "    \"\"\"|FROM GRAPH gnearby.graph\n",
    "       |MATCH (n)\n",
    "       |RETURN n\"\"\".stripMargin\n",
    "  ).show"
   ]
  },
  {
   "cell_type": "code",
   "execution_count": 17,
   "metadata": {},
   "outputs": [
    {
     "name": "stdout",
     "output_type": "stream",
     "text": [
      "╔══════════════════════════════════════════╗\n",
      "║ n                                        ║\n",
      "╠══════════════════════════════════════════╣\n",
      "║ (:`Person` {`name`: 'Alice'})            ║\n",
      "║ (:`Person` {`name`: 'Bob'})              ║\n",
      "║ (:`Coupon` {`discount`: '10%'})          ║\n",
      "║ (:`Coupon` {`discount`: 'Free coffee!'}) ║\n",
      "╚══════════════════════════════════════════╝\n",
      "(4 rows)\n"
     ]
    }
   ],
   "source": [
    "morpheus.cypher(\n",
    "    \"\"\"|FROM GRAPH gcoupons.graph\n",
    "       |MATCH (n)\n",
    "       |RETURN n\"\"\".stripMargin\n",
    "  ).show"
   ]
  },
  {
   "cell_type": "markdown",
   "metadata": {},
   "source": [
    "###### Query to retrieve the shoppers that have to be notified"
   ]
  },
  {
   "cell_type": "code",
   "execution_count": 18,
   "metadata": {},
   "outputs": [
    {
     "name": "stdout",
     "output_type": "stream",
     "text": [
      "╔═══════════════════════════════╤══════════════════════════════════════════╗\n",
      "║ t                             │ c                                        ║\n",
      "╠═══════════════════════════════╪══════════════════════════════════════════╣\n",
      "║ (:`Person` {`name`: 'Diana'}) │ (:`Coupon` {`discount`: '10%'})          ║\n",
      "║ (:`Person` {`name`: 'Eve'})   │ (:`Coupon` {`discount`: 'Free coffee!'}) ║\n",
      "║ (:`Person` {`name`: 'Carl'})  │ (:`Coupon` {`discount`: '10%'})          ║\n",
      "╚═══════════════════════════════╧══════════════════════════════════════════╝\n",
      "(3 rows)\n"
     ]
    }
   ],
   "source": [
    "morpheus.cypher(\n",
    "    \"\"\"|FROM GRAPH gshops.graph\n",
    "       |MATCH (o1:Person)-[:OWNS]->(s1:Shop)\n",
    "       |FROM GRAPH gcoupons.graph\n",
    "       |MATCH (o2:Person)-[:OFFERS]->(c:Coupon)\n",
    "       |WHERE o1.name = o2.name\n",
    "       |FROM GRAPH gnearby.graph\n",
    "       |MATCH (t:Person)-[:IS_NEAR_BY]->(s2:Shop)\n",
    "       |WHERE s1.name = s2.name\n",
    "       |RETURN t, c\"\"\".stripMargin\n",
    "  ).show"
   ]
  },
  {
   "cell_type": "code",
   "execution_count": null,
   "metadata": {},
   "outputs": [],
   "source": []
  }
 ],
 "metadata": {
  "kernelspec": {
   "display_name": "spylon-kernel",
   "language": "scala",
   "name": "spylon-kernel"
  },
  "language_info": {
   "codemirror_mode": "text/x-scala",
   "file_extension": ".scala",
   "help_links": [
    {
     "text": "MetaKernel Magics",
     "url": "https://metakernel.readthedocs.io/en/latest/source/README.html"
    }
   ],
   "mimetype": "text/x-scala",
   "name": "scala",
   "pygments_lexer": "scala",
   "version": "0.4.1"
  }
 },
 "nbformat": 4,
 "nbformat_minor": 2
}
